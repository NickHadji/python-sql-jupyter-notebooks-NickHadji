{
 "cells": [
  {
   "cell_type": "markdown",
   "metadata": {},
   "source": [
    "# Python and SQL practise 1\n",
    "\n",
    "Step through the code below and read it carefully so you understand what is happening.\n",
    "\n",
    "This must be the first line of the program to allow Python to use the SQLite3 library\n",
    "Run the cell below to import into your program"
   ]
  },
  {
   "cell_type": "code",
   "execution_count": 1,
   "metadata": {},
   "outputs": [],
   "source": [
    "import sqlite3"
   ]
  },
  {
   "cell_type": "markdown",
   "metadata": {},
   "source": [
    "Connects to a database called 'vets'. If no such database exists, it will create one. The file will be stored in the same folder as the notebook (or the Python program). From now on in the program you can refer to the database that you are connecting to as **db**"
   ]
  },
  {
   "cell_type": "code",
   "execution_count": 2,
   "metadata": {},
   "outputs": [],
   "source": [
    "with sqlite3.connect(\"vets\") as db:\n",
    "    cursor = db.cursor()"
   ]
  },
  {
   "cell_type": "markdown",
   "metadata": {},
   "source": [
    "Creates a table called **pet** which has four fields (petID, petName, petType and petAge). It specifies the data type, the field that is the primary key and the fields that cannot be left blank. The triple speech marks allow the code to be split over several lines to make it easier to read rather than having it displayed all on one line."
   ]
  },
  {
   "cell_type": "code",
   "execution_count": 3,
   "metadata": {},
   "outputs": [
    {
     "data": {
      "text/plain": [
       "<sqlite3.Cursor at 0x7f570058b490>"
      ]
     },
     "execution_count": 3,
     "metadata": {},
     "output_type": "execute_result"
    }
   ],
   "source": [
    "cursor.execute(\"\"\"CREATE TABLE IF NOT EXISTS pet(petID integer PRIMARY KEY, \n",
    "petName text NOT NULL, petType text NOT NULL, petAge integer);\"\"\")"
   ]
  },
  {
   "cell_type": "markdown",
   "metadata": {},
   "source": [
    "Collects input data from the program user. "
   ]
  },
  {
   "cell_type": "code",
   "execution_count": 13,
   "metadata": {},
   "outputs": [
    {
     "name": "stdout",
     "output_type": "stream",
     "text": [
      "Enter unique pet ID number: 4\n",
      "Enter the pet name: Paul\n",
      "Enter the pet type: gremlin\n",
      "Enter the pet age: 69\n"
     ]
    }
   ],
   "source": [
    "newID = input(\"Enter unique pet ID number: \")\n",
    "newName = input(\"Enter the pet name: \")\n",
    "newType = input(\"Enter the pet type: \")\n",
    "newAge = input(\"Enter the pet age: \")\n"
   ]
  },
  {
   "cell_type": "markdown",
   "metadata": {},
   "source": [
    "This section of code takes the data we have collected from the program user and uses it to create a new record in the database.\n",
    "\n",
    "The **db.commit()** line saves the changes."
   ]
  },
  {
   "cell_type": "code",
   "execution_count": 14,
   "metadata": {},
   "outputs": [],
   "source": [
    "cursor.execute((\"\"\"INSERT INTO pet VALUES(?,?,?,?)\"\"\"),(newID, newName, newType, newAge))\n",
    "db.commit()"
   ]
  },
  {
   "cell_type": "markdown",
   "metadata": {},
   "source": [
    "Displays all the data from the **pet** table in the vets database."
   ]
  },
  {
   "cell_type": "code",
   "execution_count": 15,
   "metadata": {},
   "outputs": [
    {
     "name": "stdout",
     "output_type": "stream",
     "text": [
      "[(1, 'Borky', 'Doggo', 4), (2, 'Dean', 'Fish', 3), (3, 'Georgiou', 'Dragon', 42), (4, 'Paul', 'gremlin', 69)]\n"
     ]
    }
   ],
   "source": [
    "cursor.execute(\"SELECT * from pet\")\n",
    "print(cursor.fetchall())"
   ]
  },
  {
   "cell_type": "code",
   "execution_count": 7,
   "metadata": {},
   "outputs": [
    {
     "name": "stdout",
     "output_type": "stream",
     "text": [
      "Enter unique pet ID number: 2\n",
      "Enter the pet name: Dean\n",
      "Enter the pet type: Fish\n",
      "Enter the pet age: 3\n"
     ]
    }
   ],
   "source": [
    "#Can you add some more pets to the table. Put the code to do so here.\n",
    "#Make them a variety of different types and ages. Aim to have 6-8 different pets\n",
    "newID = input(\"Enter unique pet ID number: \")\n",
    "newName = input(\"Enter the pet name: \")\n",
    "newType = input(\"Enter the pet type: \")\n",
    "newAge = input(\"Enter the pet age: \")\n"
   ]
  },
  {
   "cell_type": "markdown",
   "metadata": {},
   "source": [
    "This must be the last line in the program to close the database."
   ]
  },
  {
   "cell_type": "code",
   "execution_count": 16,
   "metadata": {},
   "outputs": [],
   "source": [
    "db.close()"
   ]
  },
  {
   "cell_type": "markdown",
   "metadata": {},
   "source": [
    "Connecting again back to the database. (If we don't connect to it again then Python will throw an exception)"
   ]
  },
  {
   "cell_type": "code",
   "execution_count": 17,
   "metadata": {},
   "outputs": [],
   "source": [
    "with sqlite3.connect(\"vets\") as db:\n",
    "    cursor = db.cursor()"
   ]
  },
  {
   "cell_type": "markdown",
   "metadata": {},
   "source": [
    "Displays all the data from the vets table and displays each record on a separate line."
   ]
  },
  {
   "cell_type": "code",
   "execution_count": 18,
   "metadata": {},
   "outputs": [
    {
     "name": "stdout",
     "output_type": "stream",
     "text": [
      "(1, 'Borky', 'Doggo', 4)\n",
      "(2, 'Dean', 'Fish', 3)\n",
      "(3, 'Georgiou', 'Dragon', 42)\n",
      "(4, 'Paul', 'gremlin', 69)\n"
     ]
    }
   ],
   "source": [
    "cursor.execute(\"SELECT * from pet\")\n",
    "for x in cursor.fetchall():\n",
    "    print(x)"
   ]
  },
  {
   "cell_type": "markdown",
   "metadata": {},
   "source": [
    "Displays all the data from the vets table and displays each record, sorted by name on a separate line."
   ]
  },
  {
   "cell_type": "code",
   "execution_count": 19,
   "metadata": {},
   "outputs": [
    {
     "name": "stdout",
     "output_type": "stream",
     "text": [
      "(1, 'Borky', 'Doggo', 4)\n",
      "(2, 'Dean', 'Fish', 3)\n",
      "(3, 'Georgiou', 'Dragon', 42)\n",
      "(4, 'Paul', 'gremlin', 69)\n"
     ]
    }
   ],
   "source": [
    "cursor.execute(\"SELECT * from pet ORDER BY petName\")\n",
    "for x in cursor.fetchall():\n",
    "    print(x)"
   ]
  },
  {
   "cell_type": "markdown",
   "metadata": {},
   "source": [
    "Selects all the data from the pet table where their age is over 3 and prints it."
   ]
  },
  {
   "cell_type": "code",
   "execution_count": 20,
   "metadata": {},
   "outputs": [
    {
     "name": "stdout",
     "output_type": "stream",
     "text": [
      "[(1, 'Borky', 'Doggo', 4), (3, 'Georgiou', 'Dragon', 42), (4, 'Paul', 'gremlin', 69)]\n"
     ]
    }
   ],
   "source": [
    "cursor.execute(\"SELECT * from pet WHERE petAge>3\")\n",
    "print(cursor.fetchall())"
   ]
  },
  {
   "cell_type": "markdown",
   "metadata": {},
   "source": [
    "Selects all the data from the pet table where the pet type is 'Fish'"
   ]
  },
  {
   "cell_type": "code",
   "execution_count": 21,
   "metadata": {},
   "outputs": [
    {
     "name": "stdout",
     "output_type": "stream",
     "text": [
      "[(2, 'Dean', 'Fish', 3)]\n"
     ]
    }
   ],
   "source": [
    "cursor.execute(\"SELECT * from pet WHERE petType='Fish'\")\n",
    "print(cursor.fetchall())"
   ]
  },
  {
   "cell_type": "markdown",
   "metadata": {},
   "source": [
    "Selects and prints the name and type from the **pet** table."
   ]
  },
  {
   "cell_type": "code",
   "execution_count": 22,
   "metadata": {},
   "outputs": [
    {
     "name": "stdout",
     "output_type": "stream",
     "text": [
      "[('Borky', 'Doggo'), ('Dean', 'Fish'), ('Georgiou', 'Dragon'), ('Paul', 'gremlin')]\n"
     ]
    }
   ],
   "source": [
    "cursor.execute(\"SELECT petName,petType from pet\")\n",
    "print(cursor.fetchall())"
   ]
  },
  {
   "cell_type": "markdown",
   "metadata": {},
   "source": [
    "Allows a user to type in a pet type and displays all the records where the input is equal to a pet type."
   ]
  },
  {
   "cell_type": "code",
   "execution_count": 25,
   "metadata": {},
   "outputs": [
    {
     "name": "stdout",
     "output_type": "stream",
     "text": [
      "Enter a type of pet to display: Fish\n",
      "(2, 'Freda', 'Fish', 3)\n"
     ]
    }
   ],
   "source": [
    "whichType = input(\"Enter a type of pet to display: \")\n",
    "cursor.execute(\"SELECT * from pet where petType=?\",[whichType])\n",
    "for x in cursor.fetchall():\n",
    "    print(x)"
   ]
  },
  {
   "cell_type": "markdown",
   "metadata": {},
   "source": [
    "The next code updates the data in the table (overwriting the data) to change the name of the Fish with petID 2 to \"Freda\"."
   ]
  },
  {
   "cell_type": "code",
   "execution_count": 24,
   "metadata": {},
   "outputs": [
    {
     "data": {
      "text/plain": [
       "<sqlite3.Cursor at 0x7f570058b960>"
      ]
     },
     "execution_count": 24,
     "metadata": {},
     "output_type": "execute_result"
    }
   ],
   "source": [
    "cursor.execute(\"UPDATE pet SET petName = 'Freda' WHERE petID=2\")"
   ]
  },
  {
   "cell_type": "markdown",
   "metadata": {},
   "source": [
    "Finally for now, lets close the database connection."
   ]
  },
  {
   "cell_type": "code",
   "execution_count": 26,
   "metadata": {},
   "outputs": [],
   "source": [
    "db.close()"
   ]
  },
  {
   "cell_type": "markdown",
   "metadata": {},
   "source": [
    "## For reference (to use in the future).\n",
    "\n",
    "The next part of code is incomplete and you should use very carefully if you need it in the future. You should be able to work out what it does."
   ]
  },
  {
   "cell_type": "code",
   "execution_count": null,
   "metadata": {},
   "outputs": [],
   "source": [
    "cursor.execute(\"DELETE pet WHERE petID=xxx\")"
   ]
  }
 ],
 "metadata": {
  "kernelspec": {
   "display_name": "Python 3",
   "language": "python",
   "name": "python3"
  },
  "language_info": {
   "codemirror_mode": {
    "name": "ipython",
    "version": 3
   },
   "file_extension": ".py",
   "mimetype": "text/x-python",
   "name": "python",
   "nbconvert_exporter": "python",
   "pygments_lexer": "ipython3",
   "version": "3.6.8"
  }
 },
 "nbformat": 4,
 "nbformat_minor": 2
}
