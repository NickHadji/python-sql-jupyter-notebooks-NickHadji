{
 "cells": [
  {
   "cell_type": "markdown",
   "metadata": {},
   "source": [
    "# SQL Learning Activities\n",
    "\n",
    "Complete all the tasks below in a Jupyter notebook using a mixture of Python and SQL.\n"
   ]
  },
  {
   "cell_type": "markdown",
   "metadata": {},
   "source": [
    "**1)** Create a SQL database called **email_addresses** that contains a table called **names** with the following data:\n",
    "\n",
    "| ID | FirstName | Surname   | Email                  |\n",
    "|----|-----------|-----------|------------------------|\n",
    "| 1  | Mark      | Campbell  | markcampbell@ada.ac.uk |\n",
    "| 2  | Steve     | Rich      | steve@ada.ac.uk        |\n",
    "| 3  | Ian       | Dickerson | ian@ada.ac.uk          |\n",
    "| 4  | Vicky     | Clarke    | vicky@ada.ac.uk        |\n",
    "| 5  | Stuart    | Noss      | stuart@ada.ac.uk       |\n"
   ]
  },
  {
   "cell_type": "code",
   "execution_count": 8,
   "metadata": {},
   "outputs": [],
   "source": [
    "import sqlite3 \n",
    "\n"
   ]
  },
  {
   "cell_type": "code",
   "execution_count": 9,
   "metadata": {},
   "outputs": [],
   "source": [
    "with sqlite3.connect(\"email_addresses\") as db:\n",
    "    cursor=db.cursor()\n",
    "\n"
   ]
  },
  {
   "cell_type": "code",
   "execution_count": 10,
   "metadata": {},
   "outputs": [
    {
     "data": {
      "text/plain": [
       "<sqlite3.Cursor at 0x7f83604b53b0>"
      ]
     },
     "execution_count": 10,
     "metadata": {},
     "output_type": "execute_result"
    }
   ],
   "source": [
    "cursor.execute(\"\"\"CREATE TABLE IF NOT EXISTS names(ID integer PRIMARY KEY, \n",
    "FirstName text NOT NULL, Surname text NOT NULL, Email text);\"\"\")\n",
    "\n"
   ]
  },
  {
   "cell_type": "code",
   "execution_count": 23,
   "metadata": {},
   "outputs": [
    {
     "name": "stdout",
     "output_type": "stream",
     "text": [
      "Enter the unique ID number: 5\n",
      "Enter the first name: Stuart\n",
      "Enter the surname: Noss\n",
      "Enter the email address: stuart@ada.ac.uk\n"
     ]
    }
   ],
   "source": [
    "newID = input(\"Enter the unique ID number: \")\n",
    "newFName = input(\"Enter the first name: \")\n",
    "newSName = input(\"Enter the surname: \")\n",
    "newEmail = input(\"Enter the email address: \")\n",
    "\n",
    "\n"
   ]
  },
  {
   "cell_type": "code",
   "execution_count": 24,
   "metadata": {},
   "outputs": [],
   "source": [
    "cursor.execute((\"\"\"INSERT INTO names VALUES(?,?,?,?)\"\"\"),(newID, newFName, newSName, newEmail))\n",
    "db.commit()\n",
    "\n",
    "\n"
   ]
  },
  {
   "cell_type": "code",
   "execution_count": 25,
   "metadata": {},
   "outputs": [
    {
     "name": "stdout",
     "output_type": "stream",
     "text": [
      "[(1, 'Mark', 'Campbell', 'markcampbell@ada.ac.uk'), (2, 'Steve', 'Rich', 'steve@ada.ac.uk'), (3, 'Ian', 'Dickerson', 'ian@ada.ac.uk'), (4, 'Vicky', 'Clarke', 'vicky@ada.ac.uk'), (5, 'Stuart', 'Noss', 'stuart@ada.ac.uk')]\n"
     ]
    }
   ],
   "source": [
    "cursor.execute(\"SELECT * from names\")\n",
    "print(cursor.fetchall())"
   ]
  },
  {
   "cell_type": "markdown",
   "metadata": {},
   "source": [
    "**2)** Create a new SQL database called BookInfo that will store a list of authors and the books they wrtoe. It will have two tables. The first one should be called **authors** and contain the following data:\n",
    "\n",
    "| Name                | Place of Birth |\n",
    "|---------------------|----------------|\n",
    "| HP Lovecraft        | Providence     |\n",
    "| Ramsey Campbell     | Liverpool      |\n",
    "| August Derleth      | Sauk City      |\n",
    "| Robert A.W. Lowndes | Rhode Island   |\n",
    "\n",
    "The second one should be called **books** and contain the following data:\n",
    "\n",
    "| ID | Title                           | Author              | Year Published |\n",
    "|----|---------------------------------|---------------------|----------------|\n",
    "| 1  | Call of Cthulhu                 | HP Lovecraft        | 1928           |\n",
    "| 2  | The Last Voice They Hear        | Ramsey Campbell     | 1998           |\n",
    "| 3  | Believer's World                | Robert A.W. Lowndes | 1961           |\n",
    "| 4  | The Case of Charles Dexter Ward | HP Lovecraft        | 1941           |\n",
    "| 5  | Something Near                  | August Derleth      | 1945           |\n",
    "| 6  | Lonesome Places                 | August Derleth      | 1962           |\n",
    "| 7  | From Beyond                     | HP Lovecraft        | 1934           |\n",
    "| 8  | Dwellers in Darkness            | August Derleth      | 1976           |\n",
    "| 9  | The Long Lost                   | Ramsey Campbell     | 1983           |\n",
    "| 10 | The Duplicated Man              | Robert A.W. Lowndes | 1959           |\n",
    "| 11 | The Tomb                        | HP Lovecraft        | 1922           |\n",
    "| 12 | The Claw                        | Ramsey Campbell     | 1983           |"
   ]
  },
  {
   "cell_type": "code",
   "execution_count": 3,
   "metadata": {},
   "outputs": [],
   "source": [
    "import sqlite3"
   ]
  },
  {
   "cell_type": "code",
   "execution_count": 4,
   "metadata": {},
   "outputs": [],
   "source": [
    "with sqlite3.connect(\"authors\") as db:\n",
    "    cursor = db.cursor()"
   ]
  },
  {
   "cell_type": "code",
   "execution_count": 5,
   "metadata": {},
   "outputs": [
    {
     "data": {
      "text/plain": [
       "<sqlite3.Cursor at 0x7fa8c4a8a960>"
      ]
     },
     "execution_count": 5,
     "metadata": {},
     "output_type": "execute_result"
    }
   ],
   "source": [
    "cursor.execute(\"\"\"CREATE TABLE IF NOT EXISTS authors(Name text NOT NULL, PlaceOfBirth text NOT NULL);\"\"\")"
   ]
  },
  {
   "cell_type": "code",
   "execution_count": 15,
   "metadata": {
    "scrolled": true
   },
   "outputs": [
    {
     "name": "stdout",
     "output_type": "stream",
     "text": [
      "Enter the author name: Robert A.W. Lowndes \n",
      "Enter the place of birth: Rhode Island\n"
     ]
    }
   ],
   "source": [
    "newName = input(\"Enter the author name: \")\n",
    "newPlaceOfBirth = input(\"Enter the place of birth: \")\n"
   ]
  },
  {
   "cell_type": "code",
   "execution_count": 18,
   "metadata": {},
   "outputs": [],
   "source": [
    "cursor.execute((\"\"\"INSERT INTO authors VALUES(?,?)\"\"\"),(newName, newPlaceOfBirth))\n",
    "db.commit()"
   ]
  },
  {
   "cell_type": "code",
   "execution_count": 19,
   "metadata": {},
   "outputs": [
    {
     "name": "stdout",
     "output_type": "stream",
     "text": [
      "[('Robert A.W. Lowndes ', 'Rhode Island')]\n"
     ]
    }
   ],
   "source": [
    "cursor.execute(\"SELECT * from authors\")\n",
    "print(cursor.fetchall())"
   ]
  },
  {
   "cell_type": "markdown",
   "metadata": {},
   "source": [
    "**3)** Using the BookInfo database from question 2 above, display the list of authors and their place of birth. Ask the user to enter a place of birth and then show the title, date published and author's name for all the books by authors who were born in the location they selected."
   ]
  },
  {
   "cell_type": "code",
   "execution_count": 2,
   "metadata": {},
   "outputs": [],
   "source": [
    "import sqlite3"
   ]
  },
  {
   "cell_type": "code",
   "execution_count": 4,
   "metadata": {},
   "outputs": [],
   "source": [
    "with sqlite3.connect(\"books\") as db:\n",
    "    cursor = db.cursor()"
   ]
  },
  {
   "cell_type": "code",
   "execution_count": 5,
   "metadata": {},
   "outputs": [
    {
     "data": {
      "text/plain": [
       "<sqlite3.Cursor at 0x7f43f0d90b20>"
      ]
     },
     "execution_count": 5,
     "metadata": {},
     "output_type": "execute_result"
    }
   ],
   "source": [
    "cursor.execute(\"\"\"CREATE TABLE IF NOT EXISTS books(ID NOT NULL, Title text NOT NULL, Author text NOT NULL, Year NOT NULL);\"\"\")"
   ]
  },
  {
   "cell_type": "code",
   "execution_count": 28,
   "metadata": {},
   "outputs": [
    {
     "name": "stdout",
     "output_type": "stream",
     "text": [
      "Enter the author ID: 12\n",
      "Enter the book title: The Claw\n",
      "Enter the author name: Ramsey Campbell\n",
      "Enter the year published: 1983\n"
     ]
    }
   ],
   "source": [
    "newID = input(\"Enter the author ID: \")\n",
    "newTitle = input(\"Enter the book title: \")\n",
    "newAuthor = input(\"Enter the author name: \")\n",
    "newYear = input(\"Enter the year published: \")"
   ]
  },
  {
   "cell_type": "code",
   "execution_count": 29,
   "metadata": {},
   "outputs": [],
   "source": [
    "cursor.execute((\"\"\"INSERT INTO books VALUES(?,?,?,?)\"\"\"),(newID, newTitle, newAuthor, newYear))\n",
    "db.commit()"
   ]
  },
  {
   "cell_type": "code",
   "execution_count": 30,
   "metadata": {},
   "outputs": [
    {
     "name": "stdout",
     "output_type": "stream",
     "text": [
      "[('12', 'The Claw', 'Ramsey Campbell', '1983'), ('1', 'Call of Cthulhu', 'HP Lovecraft', '1928'), ('2', 'The Last Voice They Hear', 'Ramsey Campbell', '1998'), ('1', 'Call of Cthulhu', 'HP Lovecraft', '1928'), ('2', 'The Last Voice They Hear', 'Ramsey Campbell', '1998'), ('3', \"Believer's World\", 'Robert A.W. Lowndes', '1961'), ('4', 'The Case of Charles Dexter Ward', 'HP Lovecraft', '1941'), ('5', 'Something Near', 'August Derleth', '1945'), ('6', 'Lonesome Places', 'August Derleth', '1962'), ('7', 'From Beyond', 'HP Lovecraft', '1934'), ('8', 'Dwellers in Darkness', 'August Derleth', '1976'), ('9', 'The Long Lost', 'Ramsey Campbell', '1983'), ('10', 'The Duplicated Man', 'Robert A.W. Lowndes', '1959'), ('11', 'The Tomb', 'HP Lovecraft', '1922'), ('12', 'The Claw', 'Ramsey Campbell', '1983')]\n"
     ]
    }
   ],
   "source": [
    "cursor.execute(\"SELECT * from books\")\n",
    "print(cursor.fetchall())"
   ]
  },
  {
   "cell_type": "markdown",
   "metadata": {},
   "source": [
    "**4)** Using the BookInfo database, ask the user to enter a year and display all the books published after that year, sorted by the year they were published."
   ]
  },
  {
   "cell_type": "code",
   "execution_count": 37,
   "metadata": {},
   "outputs": [
    {
     "name": "stdout",
     "output_type": "stream",
     "text": [
      "Please enter a year: 1990\n",
      "[('The Last Voice They Hear',), ('The Last Voice They Hear',)]\n"
     ]
    }
   ],
   "source": [
    "askyear = input (\"Please enter a year: \")\n",
    "cursor.execute(\"SELECT Title from books WHERE Year>?\", [askyear])\n",
    "print(cursor.fetchall())"
   ]
  }
 ],
 "metadata": {
  "kernelspec": {
   "display_name": "Python 3",
   "language": "python",
   "name": "python3"
  },
  "language_info": {
   "codemirror_mode": {
    "name": "ipython",
    "version": 3
   },
   "file_extension": ".py",
   "mimetype": "text/x-python",
   "name": "python",
   "nbconvert_exporter": "python",
   "pygments_lexer": "ipython3",
   "version": "3.6.8"
  }
 },
 "nbformat": 4,
 "nbformat_minor": 2
}
